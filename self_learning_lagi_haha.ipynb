{
  "nbformat": 4,
  "nbformat_minor": 0,
  "metadata": {
    "colab": {
      "provenance": [],
      "authorship_tag": "ABX9TyNJqBQ8rmQOOAWkaHChY82H",
      "include_colab_link": true
    },
    "kernelspec": {
      "name": "python3",
      "display_name": "Python 3"
    },
    "language_info": {
      "name": "python"
    }
  },
  "cells": [
    {
      "cell_type": "markdown",
      "metadata": {
        "id": "view-in-github",
        "colab_type": "text"
      },
      "source": [
        "<a href=\"https://colab.research.google.com/github/andhinisetyakholili/MSIB-Batch-3-Orbit-Future-Academy/blob/main/self_learning_lagi_haha.ipynb\" target=\"_parent\"><img src=\"https://colab.research.google.com/assets/colab-badge.svg\" alt=\"Open In Colab\"/></a>"
      ]
    },
    {
      "cell_type": "code",
      "execution_count": 1,
      "metadata": {
        "colab": {
          "base_uri": "https://localhost:8080/"
        },
        "id": "afxrHMF-zcka",
        "outputId": "67881d30-6404-4681-92c3-13513a1abde0"
      },
      "outputs": [
        {
          "output_type": "stream",
          "name": "stdout",
          "text": [
            "Menentukan Status Berat Badan Berdasarkan BMI\n",
            "\n",
            "Masukkan Berat Badan (kg) : 40\n",
            "Masukkan Tinggi Badan (cm) : 157\n",
            "Normal\n"
          ]
        }
      ],
      "source": [
        "print(\"Menentukan Status Berat Badan Berdasarkan BMI\\n\")\n",
        "\n",
        "BB = float(input(\"Masukkan Berat Badan (kg) : \"))\n",
        "TB = float(input(\"Masukkan Tinggi Badan (cm) : \"))\n",
        "\n",
        "BMI = BB / TB * TB\n",
        "\n",
        "if BMI < 18.5:\n",
        "  print(\"Kurang Berat Badan\")\n",
        "elif BMI >= 18.5:\n",
        "  print(\"Normal\")\n",
        "elif BMI >= 23:\n",
        "  print(\"Kelebihan Berat Badan\")\n",
        "elif BMI >= 25:\n",
        "  print(\"Obesitas Tingkat 1\")\n",
        "else:\n",
        "  print(\"Obesitas Tingkat 2\")\n",
        "  "
      ]
    },
    {
      "cell_type": "code",
      "source": [
        "x, jum, i = 0, 0, 0\n",
        "\n",
        "x = int(input(\"Inputkan Angka\\t: \"))\n",
        "while x != 0:\n",
        "  i += 1\n",
        "  jum += x\n",
        "  x = int(input(\"Inputkan Angka\\t: \"))\n",
        "\n",
        "if i != 0:\n",
        "  rata2 = jum/i\n",
        "  print(\"RATA - RATA SEMUA ANGKA YANG TELAH DIMASUKKAN SEBELUMNYA ADALAH \", rata2)\n",
        "else:\n",
        "  print(\"tidak ada nilai\")"
      ],
      "metadata": {
        "colab": {
          "base_uri": "https://localhost:8080/"
        },
        "id": "2lidM8PGz0tz",
        "outputId": "6e4af86b-4df2-49a3-e048-e33c7d859487"
      },
      "execution_count": 2,
      "outputs": [
        {
          "output_type": "stream",
          "name": "stdout",
          "text": [
            "Inputkan Angka\t: 29\n",
            "Inputkan Angka\t: 35\n",
            "Inputkan Angka\t: 30\n",
            "Inputkan Angka\t: 70\n",
            "Inputkan Angka\t: 60\n",
            "Inputkan Angka\t: 77\n",
            "Inputkan Angka\t: 0\n",
            "RATA - RATA SEMUA ANGKA YANG TELAH DIMASUKKAN SEBELUMNYA ADALAH  50.166666666666664\n"
          ]
        }
      ]
    },
    {
      "cell_type": "code",
      "source": [
        "listl = [67, 80, 80, -12, 50, 80, 11, 61, 105, 41, 86, 86, \n",
        "     74, 88, 80, 67, 71, 50, 81, 45, 85, 17, 80, 39, 20, 79]\n",
        "A = []\n",
        "B = []\n",
        "C = []\n",
        "D = []\n",
        "E = []\n",
        "TV = []\n",
        "\n",
        "for nilai in listl:\n",
        "  if nilai >= 80 and nilai <= 100:\n",
        "    A.append(nilai)\n",
        "  elif nilai >= 70 and nilai <= 79:\n",
        "    B.append(nilai)\n",
        "  elif nilai >= 50 and nilai <= 69:\n",
        "    C.append(nilai)\n",
        "  elif nilai >= 40 and nilai <= 49:\n",
        "    D.append(nilai)\n",
        "  elif nilai >= 0 and nilai <= 39:\n",
        "    E.append(nilai)\n",
        "  else:\n",
        "    TV.append(nilai)\n",
        "  \n",
        "print(\"Grade A\\t\\t\\t: \", A)\n",
        "print(\"Grade B\\t\\t\\t: \", B)\n",
        "print(\"Grade C\\t\\t\\t: \", C)\n",
        "print(\"Grade D\\t\\t\\t: \", D)\n",
        "print(\"Grade E\\t\\t\\t: \", E)\n",
        "print(\"Nilai Tidak Valid\\t: \", TV)"
      ],
      "metadata": {
        "colab": {
          "base_uri": "https://localhost:8080/"
        },
        "id": "DC7WDCIU0MuT",
        "outputId": "11f9c2b7-39f8-4583-ece0-8b1312b489f7"
      },
      "execution_count": 8,
      "outputs": [
        {
          "output_type": "stream",
          "name": "stdout",
          "text": [
            "Grade A\t\t\t:  [80, 80, 80, 86, 86, 88, 80, 81, 85, 80]\n",
            "Grade B\t\t\t:  [74, 71, 79]\n",
            "Grade C\t\t\t:  [67, 50, 61, 67, 50]\n",
            "Grade D\t\t\t:  [41, 45]\n",
            "Grade E\t\t\t:  [11, 17, 39, 20]\n",
            "Nilai Tidak Valid\t:  [-12, 105]\n"
          ]
        }
      ]
    }
  ]
}